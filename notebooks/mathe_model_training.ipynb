{
 "cells": [
  {
   "cell_type": "markdown",
   "id": "4da27d9a",
   "metadata": {},
   "source": [
    "# MathE Dataset - Student Performance Prediction\n",
    "\n",
    "This notebook analyzes the MathE dataset to build a machine learning model that predicts whether a student will answer a mathematics question correctly based on:\n",
    "- Student country\n",
    "- Question characteristics (ID, level, topic, subtopic)\n",
    "- Question difficulty level (Basic/Advanced)\n",
    "\n",
    "**Goal:** Create a simple classification model for the Flask web application."
   ]
  },
  {
   "cell_type": "markdown",
   "id": "4b9bd91b",
   "metadata": {},
   "source": [
    "## 1. Import Required Libraries"
   ]
  },
  {
   "cell_type": "code",
   "execution_count": 1,
   "id": "0bece015",
   "metadata": {},
   "outputs": [],
   "source": [
    "import pandas as pd\n",
    "import numpy as np\n",
    "import matplotlib.pyplot as plt\n",
    "import seaborn as sns\n",
    "import pickle\n",
    "import warnings\n",
    "warnings.filterwarnings('ignore')\n",
    "\n",
    "from sklearn.model_selection import train_test_split\n",
    "from sklearn.ensemble import RandomForestClassifier\n",
    "from sklearn.preprocessing import LabelEncoder\n",
    "from sklearn.metrics import accuracy_score, classification_report, confusion_matrix\n",
    "from sklearn.metrics import precision_score, recall_score, f1_score\n",
    "\n",
    "# Set style for plots\n",
    "plt.style.use('default')\n",
    "sns.set_palette(\"husl\")"
   ]
  },
  {
   "cell_type": "markdown",
   "id": "f704223b",
   "metadata": {},
   "source": [
    "## 2. Load and Explore the Dataset"
   ]
  },
  {
   "cell_type": "code",
   "execution_count": 3,
   "id": "5fff351d",
   "metadata": {},
   "outputs": [
    {
     "name": "stdout",
     "output_type": "stream",
     "text": [
      "Dataset shape: (9546, 8)\n",
      "\n",
      "Dataset info:\n",
      "<class 'pandas.core.frame.DataFrame'>\n",
      "RangeIndex: 9546 entries, 0 to 9545\n",
      "Data columns (total 8 columns):\n",
      " #   Column           Non-Null Count  Dtype \n",
      "---  ------           --------------  ----- \n",
      " 0   Student ID       9546 non-null   int64 \n",
      " 1   Student Country  9546 non-null   object\n",
      " 2   Question ID      9546 non-null   int64 \n",
      " 3   Type of Answer   9546 non-null   int64 \n",
      " 4   Question Level   9546 non-null   object\n",
      " 5   Topic            9546 non-null   object\n",
      " 6   Subtopic         9546 non-null   object\n",
      " 7   Keywords         9546 non-null   object\n",
      "dtypes: int64(3), object(5)\n",
      "memory usage: 596.8+ KB\n"
     ]
    }
   ],
   "source": [
    "# Load the dataset with proper encoding\n",
    "df = pd.read_csv('../MathE dataset.csv', delimiter=';', encoding='latin-1')\n",
    "\n",
    "print(\"Dataset shape:\", df.shape)\n",
    "print(\"\\nDataset info:\")\n",
    "df.info()"
   ]
  },
  {
   "cell_type": "code",
   "execution_count": 4,
   "id": "2dd6640f",
   "metadata": {},
   "outputs": [
    {
     "name": "stdout",
     "output_type": "stream",
     "text": [
      "First 5 rows of the dataset:\n"
     ]
    },
    {
     "data": {
      "text/html": [
       "<div>\n",
       "<style scoped>\n",
       "    .dataframe tbody tr th:only-of-type {\n",
       "        vertical-align: middle;\n",
       "    }\n",
       "\n",
       "    .dataframe tbody tr th {\n",
       "        vertical-align: top;\n",
       "    }\n",
       "\n",
       "    .dataframe thead th {\n",
       "        text-align: right;\n",
       "    }\n",
       "</style>\n",
       "<table border=\"1\" class=\"dataframe\">\n",
       "  <thead>\n",
       "    <tr style=\"text-align: right;\">\n",
       "      <th></th>\n",
       "      <th>Student ID</th>\n",
       "      <th>Student Country</th>\n",
       "      <th>Question ID</th>\n",
       "      <th>Type of Answer</th>\n",
       "      <th>Question Level</th>\n",
       "      <th>Topic</th>\n",
       "      <th>Subtopic</th>\n",
       "      <th>Keywords</th>\n",
       "    </tr>\n",
       "  </thead>\n",
       "  <tbody>\n",
       "    <tr>\n",
       "      <th>0</th>\n",
       "      <td>647</td>\n",
       "      <td>Ireland</td>\n",
       "      <td>77</td>\n",
       "      <td>0</td>\n",
       "      <td>Basic</td>\n",
       "      <td>Statistics</td>\n",
       "      <td>Statistics</td>\n",
       "      <td>Stem and Leaf diagram,Relative frequency,Sampl...</td>\n",
       "    </tr>\n",
       "    <tr>\n",
       "      <th>1</th>\n",
       "      <td>41</td>\n",
       "      <td>Portugal</td>\n",
       "      <td>77</td>\n",
       "      <td>1</td>\n",
       "      <td>Basic</td>\n",
       "      <td>Statistics</td>\n",
       "      <td>Statistics</td>\n",
       "      <td>Stem and Leaf diagram,Relative frequency,Sampl...</td>\n",
       "    </tr>\n",
       "    <tr>\n",
       "      <th>2</th>\n",
       "      <td>340</td>\n",
       "      <td>Portugal</td>\n",
       "      <td>77</td>\n",
       "      <td>1</td>\n",
       "      <td>Basic</td>\n",
       "      <td>Statistics</td>\n",
       "      <td>Statistics</td>\n",
       "      <td>Stem and Leaf diagram,Relative frequency,Sampl...</td>\n",
       "    </tr>\n",
       "    <tr>\n",
       "      <th>3</th>\n",
       "      <td>641</td>\n",
       "      <td>Italy</td>\n",
       "      <td>77</td>\n",
       "      <td>0</td>\n",
       "      <td>Basic</td>\n",
       "      <td>Statistics</td>\n",
       "      <td>Statistics</td>\n",
       "      <td>Stem and Leaf diagram,Relative frequency,Sampl...</td>\n",
       "    </tr>\n",
       "    <tr>\n",
       "      <th>4</th>\n",
       "      <td>669</td>\n",
       "      <td>Portugal</td>\n",
       "      <td>77</td>\n",
       "      <td>1</td>\n",
       "      <td>Basic</td>\n",
       "      <td>Statistics</td>\n",
       "      <td>Statistics</td>\n",
       "      <td>Stem and Leaf diagram,Relative frequency,Sampl...</td>\n",
       "    </tr>\n",
       "  </tbody>\n",
       "</table>\n",
       "</div>"
      ],
      "text/plain": [
       "   Student ID Student Country  Question ID  Type of Answer Question Level  \\\n",
       "0         647         Ireland           77               0          Basic   \n",
       "1          41        Portugal           77               1          Basic   \n",
       "2         340        Portugal           77               1          Basic   \n",
       "3         641           Italy           77               0          Basic   \n",
       "4         669        Portugal           77               1          Basic   \n",
       "\n",
       "        Topic    Subtopic                                           Keywords  \n",
       "0  Statistics  Statistics  Stem and Leaf diagram,Relative frequency,Sampl...  \n",
       "1  Statistics  Statistics  Stem and Leaf diagram,Relative frequency,Sampl...  \n",
       "2  Statistics  Statistics  Stem and Leaf diagram,Relative frequency,Sampl...  \n",
       "3  Statistics  Statistics  Stem and Leaf diagram,Relative frequency,Sampl...  \n",
       "4  Statistics  Statistics  Stem and Leaf diagram,Relative frequency,Sampl...  "
      ]
     },
     "execution_count": 4,
     "metadata": {},
     "output_type": "execute_result"
    }
   ],
   "source": [
    "# Display first few rows\n",
    "print(\"First 5 rows of the dataset:\")\n",
    "df.head()"
   ]
  },
  {
   "cell_type": "code",
   "execution_count": 5,
   "id": "d403b353",
   "metadata": {},
   "outputs": [
    {
     "name": "stdout",
     "output_type": "stream",
     "text": [
      "Column names:\n",
      "['Student ID', 'Student Country', 'Question ID', 'Type of Answer', 'Question Level', 'Topic', 'Subtopic', 'Keywords']\n",
      "\n",
      "Dataset description:\n"
     ]
    },
    {
     "data": {
      "text/html": [
       "<div>\n",
       "<style scoped>\n",
       "    .dataframe tbody tr th:only-of-type {\n",
       "        vertical-align: middle;\n",
       "    }\n",
       "\n",
       "    .dataframe tbody tr th {\n",
       "        vertical-align: top;\n",
       "    }\n",
       "\n",
       "    .dataframe thead th {\n",
       "        text-align: right;\n",
       "    }\n",
       "</style>\n",
       "<table border=\"1\" class=\"dataframe\">\n",
       "  <thead>\n",
       "    <tr style=\"text-align: right;\">\n",
       "      <th></th>\n",
       "      <th>Student ID</th>\n",
       "      <th>Student Country</th>\n",
       "      <th>Question ID</th>\n",
       "      <th>Type of Answer</th>\n",
       "      <th>Question Level</th>\n",
       "      <th>Topic</th>\n",
       "      <th>Subtopic</th>\n",
       "      <th>Keywords</th>\n",
       "    </tr>\n",
       "  </thead>\n",
       "  <tbody>\n",
       "    <tr>\n",
       "      <th>count</th>\n",
       "      <td>9546.000000</td>\n",
       "      <td>9546</td>\n",
       "      <td>9546.000000</td>\n",
       "      <td>9546.000000</td>\n",
       "      <td>9546</td>\n",
       "      <td>9546</td>\n",
       "      <td>9546</td>\n",
       "      <td>9546</td>\n",
       "    </tr>\n",
       "    <tr>\n",
       "      <th>unique</th>\n",
       "      <td>NaN</td>\n",
       "      <td>8</td>\n",
       "      <td>NaN</td>\n",
       "      <td>NaN</td>\n",
       "      <td>2</td>\n",
       "      <td>14</td>\n",
       "      <td>24</td>\n",
       "      <td>365</td>\n",
       "    </tr>\n",
       "    <tr>\n",
       "      <th>top</th>\n",
       "      <td>NaN</td>\n",
       "      <td>Portugal</td>\n",
       "      <td>NaN</td>\n",
       "      <td>NaN</td>\n",
       "      <td>Basic</td>\n",
       "      <td>Linear Algebra</td>\n",
       "      <td>Vector Spaces</td>\n",
       "      <td>Linear application,Linearity</td>\n",
       "    </tr>\n",
       "    <tr>\n",
       "      <th>freq</th>\n",
       "      <td>NaN</td>\n",
       "      <td>5495</td>\n",
       "      <td>NaN</td>\n",
       "      <td>NaN</td>\n",
       "      <td>7844</td>\n",
       "      <td>5726</td>\n",
       "      <td>2749</td>\n",
       "      <td>443</td>\n",
       "    </tr>\n",
       "    <tr>\n",
       "      <th>mean</th>\n",
       "      <td>775.402263</td>\n",
       "      <td>NaN</td>\n",
       "      <td>478.912319</td>\n",
       "      <td>0.468259</td>\n",
       "      <td>NaN</td>\n",
       "      <td>NaN</td>\n",
       "      <td>NaN</td>\n",
       "      <td>NaN</td>\n",
       "    </tr>\n",
       "    <tr>\n",
       "      <th>std</th>\n",
       "      <td>460.590559</td>\n",
       "      <td>NaN</td>\n",
       "      <td>249.244061</td>\n",
       "      <td>0.499018</td>\n",
       "      <td>NaN</td>\n",
       "      <td>NaN</td>\n",
       "      <td>NaN</td>\n",
       "      <td>NaN</td>\n",
       "    </tr>\n",
       "    <tr>\n",
       "      <th>min</th>\n",
       "      <td>26.000000</td>\n",
       "      <td>NaN</td>\n",
       "      <td>77.000000</td>\n",
       "      <td>0.000000</td>\n",
       "      <td>NaN</td>\n",
       "      <td>NaN</td>\n",
       "      <td>NaN</td>\n",
       "      <td>NaN</td>\n",
       "    </tr>\n",
       "    <tr>\n",
       "      <th>25%</th>\n",
       "      <td>380.000000</td>\n",
       "      <td>NaN</td>\n",
       "      <td>323.000000</td>\n",
       "      <td>0.000000</td>\n",
       "      <td>NaN</td>\n",
       "      <td>NaN</td>\n",
       "      <td>NaN</td>\n",
       "      <td>NaN</td>\n",
       "    </tr>\n",
       "    <tr>\n",
       "      <th>50%</th>\n",
       "      <td>885.000000</td>\n",
       "      <td>NaN</td>\n",
       "      <td>428.000000</td>\n",
       "      <td>0.000000</td>\n",
       "      <td>NaN</td>\n",
       "      <td>NaN</td>\n",
       "      <td>NaN</td>\n",
       "      <td>NaN</td>\n",
       "    </tr>\n",
       "    <tr>\n",
       "      <th>75%</th>\n",
       "      <td>1219.000000</td>\n",
       "      <td>NaN</td>\n",
       "      <td>571.000000</td>\n",
       "      <td>1.000000</td>\n",
       "      <td>NaN</td>\n",
       "      <td>NaN</td>\n",
       "      <td>NaN</td>\n",
       "      <td>NaN</td>\n",
       "    </tr>\n",
       "    <tr>\n",
       "      <th>max</th>\n",
       "      <td>1565.000000</td>\n",
       "      <td>NaN</td>\n",
       "      <td>1549.000000</td>\n",
       "      <td>1.000000</td>\n",
       "      <td>NaN</td>\n",
       "      <td>NaN</td>\n",
       "      <td>NaN</td>\n",
       "      <td>NaN</td>\n",
       "    </tr>\n",
       "  </tbody>\n",
       "</table>\n",
       "</div>"
      ],
      "text/plain": [
       "         Student ID Student Country  Question ID  Type of Answer  \\\n",
       "count   9546.000000            9546  9546.000000     9546.000000   \n",
       "unique          NaN               8          NaN             NaN   \n",
       "top             NaN        Portugal          NaN             NaN   \n",
       "freq            NaN            5495          NaN             NaN   \n",
       "mean     775.402263             NaN   478.912319        0.468259   \n",
       "std      460.590559             NaN   249.244061        0.499018   \n",
       "min       26.000000             NaN    77.000000        0.000000   \n",
       "25%      380.000000             NaN   323.000000        0.000000   \n",
       "50%      885.000000             NaN   428.000000        0.000000   \n",
       "75%     1219.000000             NaN   571.000000        1.000000   \n",
       "max     1565.000000             NaN  1549.000000        1.000000   \n",
       "\n",
       "       Question Level           Topic       Subtopic  \\\n",
       "count            9546            9546           9546   \n",
       "unique              2              14             24   \n",
       "top             Basic  Linear Algebra  Vector Spaces   \n",
       "freq             7844            5726           2749   \n",
       "mean              NaN             NaN            NaN   \n",
       "std               NaN             NaN            NaN   \n",
       "min               NaN             NaN            NaN   \n",
       "25%               NaN             NaN            NaN   \n",
       "50%               NaN             NaN            NaN   \n",
       "75%               NaN             NaN            NaN   \n",
       "max               NaN             NaN            NaN   \n",
       "\n",
       "                            Keywords  \n",
       "count                           9546  \n",
       "unique                           365  \n",
       "top     Linear application,Linearity  \n",
       "freq                             443  \n",
       "mean                             NaN  \n",
       "std                              NaN  \n",
       "min                              NaN  \n",
       "25%                              NaN  \n",
       "50%                              NaN  \n",
       "75%                              NaN  \n",
       "max                              NaN  "
      ]
     },
     "execution_count": 5,
     "metadata": {},
     "output_type": "execute_result"
    }
   ],
   "source": [
    "# Check column names and basic statistics\n",
    "print(\"Column names:\")\n",
    "print(df.columns.tolist())\n",
    "print(\"\\nDataset description:\")\n",
    "df.describe(include='all')"
   ]
  },
  {
   "cell_type": "markdown",
   "id": "20fbd8ed",
   "metadata": {},
   "source": [
    "## 3. Exploratory Data Analysis (EDA)"
   ]
  },
  {
   "cell_type": "code",
   "execution_count": 6,
   "id": "55528de0",
   "metadata": {},
   "outputs": [
    {
     "name": "stdout",
     "output_type": "stream",
     "text": [
      "Missing values per column:\n",
      "Student ID         0\n",
      "Student Country    0\n",
      "Question ID        0\n",
      "Type of Answer     0\n",
      "Question Level     0\n",
      "Topic              0\n",
      "Subtopic           0\n",
      "Keywords           0\n",
      "dtype: int64\n",
      "\n",
      "Data types:\n",
      "Student ID          int64\n",
      "Student Country    object\n",
      "Question ID         int64\n",
      "Type of Answer      int64\n",
      "Question Level     object\n",
      "Topic              object\n",
      "Subtopic           object\n",
      "Keywords           object\n",
      "dtype: object\n"
     ]
    }
   ],
   "source": [
    "# Check for missing values\n",
    "print(\"Missing values per column:\")\n",
    "print(df.isnull().sum())\n",
    "\n",
    "print(\"\\nData types:\")\n",
    "print(df.dtypes)"
   ]
  },
  {
   "cell_type": "code",
   "execution_count": 7,
   "id": "34b2abcf",
   "metadata": {},
   "outputs": [
    {
     "name": "stdout",
     "output_type": "stream",
     "text": [
      "Target variable distribution (Type of Answer):\n",
      "Type of Answer\n",
      "0    5076\n",
      "1    4470\n",
      "Name: count, dtype: int64\n",
      "\n",
      "Correct answers: 46.83%\n",
      "Incorrect answers: 53.17%\n"
     ]
    },
    {
     "data": {
      "image/png": "[encoded data removed]",
      "text/plain": [
       "<Figure size 800x500 with 1 Axes>"
      ]
     },
     "metadata": {},
     "output_type": "display_data"
    }
   ],
   "source": [
    "# Analyze target variable distribution\n",
    "print(\"Target variable distribution (Type of Answer):\")\n",
    "print(df['Type of Answer'].value_counts())\n",
    "print(f\"\\nCorrect answers: {df['Type of Answer'].value_counts()[1] / len(df):.2%}\")\n",
    "print(f\"Incorrect answers: {df['Type of Answer'].value_counts()[0] / len(df):.2%}\")\n",
    "\n",
    "# Plot target distribution\n",
    "plt.figure(figsize=(8, 5))\n",
    "df['Type of Answer'].value_counts().plot(kind='bar', color=['coral', 'lightblue'])\n",
    "plt.title('Distribution of Answer Types')\n",
    "plt.xlabel('Answer Type (0=Incorrect, 1=Correct)')\n",
    "plt.ylabel('Count')\n",
    "plt.xticks(rotation=0)\n",
    "plt.show()"
   ]
  },
  {
   "cell_type": "code",
   "execution_count": 8,
   "id": "30fd5afd",
   "metadata": {},
   "outputs": [
    {
     "name": "stdout",
     "output_type": "stream",
     "text": [
      "Performance by Country:\n",
      "                    Success_Rate  Total_Answers\n",
      "Student Country                                \n",
      "Slovenia                   0.687            755\n",
      "Romania                    0.583             60\n",
      "Ireland                    0.460            300\n",
      "Portugal                   0.454           5495\n",
      "Italy                      0.446           1358\n",
      "Lithuania                  0.436           1443\n",
      "Spain                      0.429             28\n",
      "Russian Federation         0.346            107\n"
     ]
    },
    {
     "data": {
      "image/png": "[encoded data removed]",
      "text/plain": [
       "<Figure size 1000x600 with 1 Axes>"
      ]
     },
     "metadata": {},
     "output_type": "display_data"
    }
   ],
   "source": [
    "# Performance by country\n",
    "country_performance = df.groupby('Student Country')['Type of Answer'].agg(['mean', 'count']).round(3)\n",
    "country_performance.columns = ['Success_Rate', 'Total_Answers']\n",
    "country_performance = country_performance.sort_values('Success_Rate', ascending=False)\n",
    "\n",
    "print(\"Performance by Country:\")\n",
    "print(country_performance)\n",
    "\n",
    "# Visualize country performance\n",
    "plt.figure(figsize=(10, 6))\n",
    "country_performance['Success_Rate'].plot(kind='bar', color='skyblue')\n",
    "plt.title('Success Rate by Country')\n",
    "plt.xlabel('Country')\n",
    "plt.ylabel('Success Rate')\n",
    "plt.xticks(rotation=45)\n",
    "plt.tight_layout()\n",
    "plt.show()"
   ]
  },
  {
   "cell_type": "code",
   "execution_count": 9,
   "id": "fc515550",
   "metadata": {},
   "outputs": [
    {
     "name": "stdout",
     "output_type": "stream",
     "text": [
      "Performance by Topic:\n",
      "                                     Success_Rate  Total_Answers\n",
      "Topic                                                           \n",
      "Set Theory                                  0.643             42\n",
      "Graph Theory                                0.582             55\n",
      "Differential Equations                      0.537            108\n",
      "Linear Algebra                              0.490           5726\n",
      "Analytic Geometry                           0.489            358\n",
      "Statistics                                  0.479            340\n",
      "Fundamental Mathematics                     0.466            818\n",
      "Complex Numbers                             0.454            592\n",
      "Integration                                 0.444            144\n",
      "Numerical Methods                           0.387            310\n",
      "Optimization                                0.385            182\n",
      "Probability                                 0.375            128\n",
      "Real Functions of a single variable         0.354            164\n",
      "Differentiation                             0.342            579\n",
      "\n",
      "Performance by Question Level:\n",
      "                Success_Rate  Total_Answers\n",
      "Question Level                             \n",
      "Advanced               0.501           1702\n",
      "Basic                  0.461           7844\n"
     ]
    }
   ],
   "source": [
    "# Performance by Topic\n",
    "topic_performance = df.groupby('Topic')['Type of Answer'].agg(['mean', 'count']).round(3)\n",
    "topic_performance.columns = ['Success_Rate', 'Total_Answers']\n",
    "topic_performance = topic_performance.sort_values('Success_Rate', ascending=False)\n",
    "\n",
    "print(\"Performance by Topic:\")\n",
    "print(topic_performance)\n",
    "\n",
    "# Performance by Question Level\n",
    "level_performance = df.groupby('Question Level')['Type of Answer'].agg(['mean', 'count']).round(3)\n",
    "level_performance.columns = ['Success_Rate', 'Total_Answers']\n",
    "\n",
    "print(\"\\nPerformance by Question Level:\")\n",
    "print(level_performance)"
   ]
  },
  {
   "cell_type": "markdown",
   "id": "5c725552",
   "metadata": {},
   "source": [
    "## 4. Data Preprocessing and Feature Engineering"
   ]
  },
  {
   "cell_type": "code",
   "execution_count": 10,
   "id": "130026cf",
   "metadata": {},
   "outputs": [
    {
     "name": "stdout",
     "output_type": "stream",
     "text": [
      "Feature matrix shape: (9546, 4)\n",
      "Target distribution: Type of Answer\n",
      "0    5076\n",
      "1    4470\n",
      "Name: count, dtype: int64\n",
      "\n",
      "Feature matrix columns: ['Country_encoded', 'Level_encoded', 'Topic_encoded', 'Subtopic_encoded']\n",
      "First few rows of features:\n",
      "   Country_encoded  Level_encoded  Topic_encoded  Subtopic_encoded\n",
      "0                0              1             13                22\n",
      "1                3              1             13                22\n",
      "2                3              1             13                22\n",
      "3                1              1             13                22\n",
      "4                3              1             13                22\n"
     ]
    }
   ],
   "source": [
    "# Encode categorical variables\n",
    "from sklearn.preprocessing import LabelEncoder\n",
    "\n",
    "le_country = LabelEncoder()\n",
    "le_topic = LabelEncoder()\n",
    "le_subtopic = LabelEncoder()\n",
    "le_level = LabelEncoder()\n",
    "\n",
    "# Create feature matrix using correct column names\n",
    "features = df[['Student Country', 'Question Level', 'Topic', 'Subtopic']].copy()\n",
    "features['Country_encoded'] = le_country.fit_transform(features['Student Country'])\n",
    "features['Level_encoded'] = le_level.fit_transform(features['Question Level'])\n",
    "features['Topic_encoded'] = le_topic.fit_transform(features['Topic'])\n",
    "features['Subtopic_encoded'] = le_subtopic.fit_transform(features['Subtopic'])\n",
    "\n",
    "# Final feature matrix\n",
    "X = features[['Country_encoded', 'Level_encoded', 'Topic_encoded', 'Subtopic_encoded']]\n",
    "y = df['Type of Answer']  # Use correct target column name\n",
    "\n",
    "print(f\"Feature matrix shape: {X.shape}\")\n",
    "print(f\"Target distribution: {y.value_counts()}\")\n",
    "print(f\"\\nFeature matrix columns: {X.columns.tolist()}\")\n",
    "print(f\"First few rows of features:\")\n",
    "print(X.head())"
   ]
  },
  {
   "cell_type": "markdown",
   "id": "8669ac3b",
   "metadata": {},
   "source": [
    "## 5. Model Training"
   ]
  },
  {
   "cell_type": "code",
   "execution_count": 11,
   "id": "0270cc44",
   "metadata": {},
   "outputs": [
    {
     "name": "stdout",
     "output_type": "stream",
     "text": [
      "Training completed!\n",
      "Training set size: 7636 samples\n",
      "Test set size: 1910 samples\n"
     ]
    }
   ],
   "source": [
    "# Split data\n",
    "from sklearn.model_selection import train_test_split\n",
    "from sklearn.ensemble import RandomForestClassifier\n",
    "\n",
    "X_train, X_test, y_train, y_test = train_test_split(X, y, test_size=0.2, random_state=42, stratify=y)\n",
    "\n",
    "# Train model\n",
    "rf_model = RandomForestClassifier(n_estimators=100, random_state=42, n_jobs=-1)\n",
    "rf_model.fit(X_train, y_train)\n",
    "\n",
    "print(f\"Training completed!\")\n",
    "print(f\"Training set size: {X_train.shape[0]} samples\")\n",
    "print(f\"Test set size: {X_test.shape[0]} samples\")"
   ]
  },
  {
   "cell_type": "markdown",
   "id": "1599ff56",
   "metadata": {},
   "source": [
    "## 6. Model Evaluation"
   ]
  },
  {
   "cell_type": "code",
   "execution_count": 12,
   "id": "6b775fc4",
   "metadata": {},
   "outputs": [
    {
     "name": "stdout",
     "output_type": "stream",
     "text": [
      "Model Accuracy: 0.6047\n",
      "\n",
      "Classification Report:\n",
      "              precision    recall  f1-score   support\n",
      "\n",
      "           0       0.60      0.76      0.67      1016\n",
      "           1       0.61      0.43      0.50       894\n",
      "\n",
      "    accuracy                           0.60      1910\n",
      "   macro avg       0.61      0.59      0.59      1910\n",
      "weighted avg       0.61      0.60      0.59      1910\n",
      "\n",
      "\n",
      "Feature Importance:\n",
      "    Feature  Importance\n",
      "0   Country    0.510944\n",
      "3  Subtopic    0.261306\n",
      "2     Topic    0.156382\n",
      "1     Level    0.071367\n"
     ]
    }
   ],
   "source": [
    "# Evaluate model\n",
    "from sklearn.metrics import accuracy_score, classification_report, confusion_matrix\n",
    "\n",
    "y_pred = rf_model.predict(X_test)\n",
    "accuracy = accuracy_score(y_test, y_pred)\n",
    "\n",
    "print(f\"Model Accuracy: {accuracy:.4f}\")\n",
    "print(\"\\nClassification Report:\")\n",
    "print(classification_report(y_test, y_pred))\n",
    "\n",
    "# Feature importance\n",
    "feature_names = ['Country', 'Level', 'Topic', 'Subtopic']\n",
    "importance_df = pd.DataFrame({\n",
    "    'Feature': feature_names,\n",
    "    'Importance': rf_model.feature_importances_\n",
    "}).sort_values('Importance', ascending=False)\n",
    "\n",
    "print(\"\\nFeature Importance:\")\n",
    "print(importance_df)"
   ]
  },
  {
   "cell_type": "markdown",
   "id": "9fc52e0c",
   "metadata": {},
   "source": [
    "## 7. Save Model for Flask App"
   ]
  },
  {
   "cell_type": "code",
   "execution_count": 13,
   "id": "8d13b34c",
   "metadata": {},
   "outputs": [
    {
     "name": "stdout",
     "output_type": "stream",
     "text": [
      "Model and encoders saved successfully!\n",
      "Files created:\n",
      "- ../models/mathe_model.pkl\n",
      "- ../models/encoders.pkl\n"
     ]
    }
   ],
   "source": [
    "# Save model and encoders\n",
    "import pickle\n",
    "import os\n",
    "\n",
    "# Create models directory\n",
    "os.makedirs('../models', exist_ok=True)\n",
    "\n",
    "# Save trained model\n",
    "with open('../models/mathe_model.pkl', 'wb') as f:\n",
    "    pickle.dump(rf_model, f)\n",
    "\n",
    "# Save label encoders for deployment\n",
    "encoders = {\n",
    "    'country': le_country,\n",
    "    'level': le_level,\n",
    "    'topic': le_topic,\n",
    "    'subtopic': le_subtopic\n",
    "}\n",
    "\n",
    "with open('../models/encoders.pkl', 'wb') as f:\n",
    "    pickle.dump(encoders, f)\n",
    "\n",
    "print(\"Model and encoders saved successfully!\")\n",
    "print(\"Files created:\")\n",
    "print(\"- ../models/mathe_model.pkl\")\n",
    "print(\"- ../models/encoders.pkl\")"
   ]
  }
 ],
 "metadata": {
  "kernelspec": {
   "display_name": "Python 3 (ipykernel)",
   "language": "python",
   "name": "python3"
  }
 },
 "nbformat": 4,
 "nbformat_minor": 5
}
